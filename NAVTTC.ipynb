{
  "nbformat": 4,
  "nbformat_minor": 0,
  "metadata": {
    "colab": {
      "name": "NAVTTC.ipynb",
      "provenance": [],
      "authorship_tag": "ABX9TyPTVGd7J8O3uswrqZeBj5K+",
      "include_colab_link": true
    },
    "kernelspec": {
      "name": "python3",
      "display_name": "Python 3"
    },
    "language_info": {
      "name": "python"
    }
  },
  "cells": [
    {
      "cell_type": "markdown",
      "metadata": {
        "id": "view-in-github",
        "colab_type": "text"
      },
      "source": [
        "<a href=\"https://colab.research.google.com/github/ahmedkhan12345/NAVTTC/blob/main/NAVTTC.ipynb\" target=\"_parent\"><img src=\"https://colab.research.google.com/assets/colab-badge.svg\" alt=\"Open In Colab\"/></a>"
      ]
    },
    {
      "cell_type": "code",
      "metadata": {
        "id": "bGPibEjC_0Aq"
      },
      "source": [
        "import random"
      ],
      "execution_count": null,
      "outputs": []
    },
    {
      "cell_type": "code",
      "metadata": {
        "id": "CCPl4cqI_3Bp"
      },
      "source": [
        "value= random.randint(1,1000)"
      ],
      "execution_count": null,
      "outputs": []
    },
    {
      "cell_type": "code",
      "metadata": {
        "colab": {
          "base_uri": "https://localhost:8080/"
        },
        "id": "PmJv69dtAArt",
        "outputId": "9d349a7c-d276-4f7c-bd76-2279a01fbce8"
      },
      "source": [
        "value"
      ],
      "execution_count": null,
      "outputs": [
        {
          "output_type": "execute_result",
          "data": {
            "text/plain": [
              "1320"
            ]
          },
          "metadata": {
            "tags": []
          },
          "execution_count": 10
        }
      ]
    },
    {
      "cell_type": "code",
      "metadata": {
        "id": "EiN5F4hoDTmf"
      },
      "source": [
        ""
      ],
      "execution_count": null,
      "outputs": []
    },
    {
      "cell_type": "code",
      "metadata": {
        "colab": {
          "base_uri": "https://localhost:8080/"
        },
        "id": "36_PSGZBAD2j",
        "outputId": "f6f46a2e-0605-4a55-f638-42c852492e29"
      },
      "source": [
        "Name = input(\"Enter Your Name\")\n",
        "print(\"Hello !\", Name, \" Welcome to colab !\")"
      ],
      "execution_count": null,
      "outputs": [
        {
          "output_type": "stream",
          "text": [
            "Enter Your NameAHMED KHAN\n",
            "Hello ! AHMED KHAN  Welcome to colab !\n"
          ],
          "name": "stdout"
        }
      ]
    },
    {
      "cell_type": "code",
      "metadata": {
        "id": "mcbUXQTiCLXl"
      },
      "source": [
        ""
      ],
      "execution_count": null,
      "outputs": []
    },
    {
      "cell_type": "code",
      "metadata": {
        "id": "ZESBWlleEVN6"
      },
      "source": [
        ""
      ],
      "execution_count": null,
      "outputs": []
    },
    {
      "cell_type": "markdown",
      "metadata": {
        "id": "Rt5m4-k3Ee-M"
      },
      "source": [
        "Calculator"
      ]
    },
    {
      "cell_type": "code",
      "metadata": {
        "colab": {
          "base_uri": "https://localhost:8080/"
        },
        "id": "yp30piGgEibN",
        "outputId": "f376a336-7aa5-4a42-e96a-2466da1add7e"
      },
      "source": [
        "#Addition\n",
        "Number1= float(input(\"Enter First Number\"))\n",
        "Number2= float(input(\"Enter Second Number\"))\n",
        "Adittion= Number1+Number2\n",
        "print(\"Adittion is..\", Adittion)\n",
        "\n",
        "#Subtraction\n",
        "Subtraction= Number1-Number2\n",
        "print(\"Subtraction is..\", Subtraction)\n",
        "\n",
        "#Division\n",
        "Division= int(input(\"Enter First Number\")) % int(input(\"Enter Second Number\"))\n",
        "print(\"Division is..\", Division)\n",
        "\n",
        "#Multiplication\n",
        "Multiplication1= float(input(\"Enter First Number\"))\n",
        "Multiplication2= float(input(\"Enter second Number\"))\n",
        "multiplication= Multiplication1*Multiplication2\n",
        "print(\"multiplication is..\", multiplication)"
      ],
      "execution_count": 12,
      "outputs": [
        {
          "output_type": "stream",
          "text": [
            "Enter First Number3\n",
            "Enter Second Number23\n",
            "Adittion is.. 26.0\n",
            "Subtraction is.. -20.0\n",
            "Enter First Number23\n",
            "Enter Second Number2\n",
            "Division is.. 1\n",
            "Enter First Number23\n",
            "Enter second Number23\n",
            "multiplication is.. 529.0\n"
          ],
          "name": "stdout"
        }
      ]
    },
    {
      "cell_type": "code",
      "metadata": {
        "colab": {
          "base_uri": "https://localhost:8080/"
        },
        "id": "1z-OO6feOv4q",
        "outputId": "60adb07e-c3c6-4f70-a4f1-44d16c8330ea"
      },
      "source": [
        "a= int(input(\"Enter a Value\"))\n",
        "if a==100:\n",
        "  print(\"Equal to 100\")\n",
        "else:\n",
        "  print(\"Not Equal to 100\")"
      ],
      "execution_count": 9,
      "outputs": [
        {
          "output_type": "stream",
          "text": [
            "Enter a Value200\n",
            "Not Equal to 100\n"
          ],
          "name": "stdout"
        }
      ]
    },
    {
      "cell_type": "code",
      "metadata": {
        "colab": {
          "base_uri": "https://localhost:8080/"
        },
        "id": "ZS-QExaSPUCD",
        "outputId": "a5c8c9be-7d9a-4f29-d3cb-1c2b856759fc"
      },
      "source": [
        "a= int(input(\"Enter a Value...\"))\n",
        "if value==+v:\n",
        "  print(\"+ve\")\n",
        "elif a>100:\n",
        "  print(\"Greater than 100\")\n",
        "else:\n",
        "  print(\"Less than 100\")"
      ],
      "execution_count": 12,
      "outputs": [
        {
          "output_type": "stream",
          "text": [
            "Enter a Value...50\n",
            "Less than 100\n"
          ],
          "name": "stdout"
        }
      ]
    },
    {
      "cell_type": "code",
      "metadata": {
        "colab": {
          "base_uri": "https://localhost:8080/"
        },
        "id": "TwrMFBqyPxhE",
        "outputId": "95126aa0-e283-49aa-ffa3-acd7fd417cf9"
      },
      "source": [
        "num = float(input(\"Enter a Value\"))\n",
        "if num > 0:\n",
        "  print(\"+ve number\")\n",
        "else:\n",
        "  print(\"-ve number\")"
      ],
      "execution_count": 19,
      "outputs": [
        {
          "output_type": "stream",
          "text": [
            "Enter a Value-2\n",
            "-ve number\n"
          ],
          "name": "stdout"
        }
      ]
    },
    {
      "cell_type": "code",
      "metadata": {
        "colab": {
          "base_uri": "https://localhost:8080/"
        },
        "id": "TtqIqlKqVimX",
        "outputId": "ecafe576-6dd2-4975-961b-8472ee21eb9c"
      },
      "source": [
        "num = float(input(\"Enter a Value\"))\n",
        "if num > 0:\n",
        "  print(\"+ve number\")\n",
        "else:\n",
        "  print(\"-ve number\")\n"
      ],
      "execution_count": 21,
      "outputs": [
        {
          "output_type": "stream",
          "text": [
            "Enter a Value-2\n",
            "-ve number\n"
          ],
          "name": "stdout"
        }
      ]
    },
    {
      "cell_type": "code",
      "metadata": {
        "colab": {
          "base_uri": "https://localhost:8080/"
        },
        "id": "VMXlPPRSZdvI",
        "outputId": "ddac9d94-1ca2-4dae-9633-240f337ec153"
      },
      "source": [
        "num = int(input(\"Enter a number: \"))\n",
        "if (num % 2) == 0:\n",
        "   print(\"{0} is Even\".format(num))\n",
        "else:\n",
        "   print(\"{0} is Odd\".format(num))"
      ],
      "execution_count": 23,
      "outputs": [
        {
          "output_type": "stream",
          "text": [
            "Enter a number: 5\n",
            "5 is Odd\n"
          ],
          "name": "stdout"
        }
      ]
    },
    {
      "cell_type": "code",
      "metadata": {
        "colab": {
          "base_uri": "https://localhost:8080/"
        },
        "id": "7v_POFaBZxIA",
        "outputId": "da31a3c0-795f-4e73-f25e-daec30d920ef"
      },
      "source": [
        "a = int(input(\"Enter a number: \"))\n",
        "if a > 0:\n",
        "  if a%2==0:\n",
        "    print(\"number is  positive and even\")\n",
        "  else:\n",
        "    print(\"Number is positive and odd\")\n",
        "else:\n",
        "  print(\"number is negative\")"
      ],
      "execution_count": 54,
      "outputs": [
        {
          "output_type": "stream",
          "text": [
            "Enter a number: 7\n",
            "Number is positive and odd\n"
          ],
          "name": "stdout"
        }
      ]
    },
    {
      "cell_type": "code",
      "metadata": {
        "colab": {
          "base_uri": "https://localhost:8080/"
        },
        "id": "wIYnhG-Lbijs",
        "outputId": "0ecf80b6-12f4-47ac-b7c1-80c6b60025c5"
      },
      "source": [
        "num = int(input(\"Enter a number: \"))\n",
        "if num >= 0:\n",
        "   if num == 0:\n",
        "       print(\"Zero\")\n",
        "   else:\n",
        "       print(\"Positive number\")\n",
        "else:\n",
        "   print(\"Negative number\")\n",
        "if (num % 2) == 0:\n",
        "   print(\"number is Even\")\n",
        "else:\n",
        "   print(\"number is Odd\")"
      ],
      "execution_count": 11,
      "outputs": [
        {
          "output_type": "stream",
          "text": [
            "Enter a number: 3\n",
            "Positive number\n",
            "number is Odd\n"
          ],
          "name": "stdout"
        }
      ]
    },
    {
      "cell_type": "code",
      "metadata": {
        "id": "ABOmHC_8kkz4"
      },
      "source": [
        "-"
      ],
      "execution_count": null,
      "outputs": []
    }
  ]
}