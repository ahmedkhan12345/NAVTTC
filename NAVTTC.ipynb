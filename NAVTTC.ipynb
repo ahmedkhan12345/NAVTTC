{
  "nbformat": 4,
  "nbformat_minor": 0,
  "metadata": {
    "colab": {
      "name": "NAVTTC.ipynb",
      "provenance": []
    },
    "kernelspec": {
      "name": "python3",
      "display_name": "Python 3"
    },
    "language_info": {
      "name": "python"
    }
  },
  "cells": [
    {
      "cell_type": "code",
      "metadata": {
        "id": "bGPibEjC_0Aq"
      },
      "source": [
        "import random"
      ],
      "execution_count": null,
      "outputs": []
    },
    {
      "cell_type": "code",
      "metadata": {
        "id": "CCPl4cqI_3Bp"
      },
      "source": [
        "value= random.randint(1,1000)"
      ],
      "execution_count": null,
      "outputs": []
    },
    {
      "cell_type": "code",
      "metadata": {
        "colab": {
          "base_uri": "https://localhost:8080/"
        },
        "id": "PmJv69dtAArt",
        "outputId": "9d349a7c-d276-4f7c-bd76-2279a01fbce8"
      },
      "source": [
        "value"
      ],
      "execution_count": null,
      "outputs": [
        {
          "output_type": "execute_result",
          "data": {
            "text/plain": [
              "1320"
            ]
          },
          "metadata": {
            "tags": []
          },
          "execution_count": 10
        }
      ]
    },
    {
      "cell_type": "code",
      "metadata": {
        "id": "EiN5F4hoDTmf"
      },
      "source": [
        ""
      ],
      "execution_count": null,
      "outputs": []
    },
    {
      "cell_type": "code",
      "metadata": {
        "colab": {
          "base_uri": "https://localhost:8080/"
        },
        "id": "36_PSGZBAD2j",
        "outputId": "f6f46a2e-0605-4a55-f638-42c852492e29"
      },
      "source": [
        "Name = input(\"Enter Your Name\")\n",
        "print(\"Hello !\", Name, \" Welcome to colab !\")"
      ],
      "execution_count": null,
      "outputs": [
        {
          "output_type": "stream",
          "text": [
            "Enter Your NameAHMED KHAN\n",
            "Hello ! AHMED KHAN  Welcome to colab !\n"
          ],
          "name": "stdout"
        }
      ]
    },
    {
      "cell_type": "code",
      "metadata": {
        "id": "mcbUXQTiCLXl"
      },
      "source": [
        ""
      ],
      "execution_count": null,
      "outputs": []
    },
    {
      "cell_type": "code",
      "metadata": {
        "id": "ZESBWlleEVN6"
      },
      "source": [
        ""
      ],
      "execution_count": null,
      "outputs": []
    },
    {
      "cell_type": "markdown",
      "metadata": {
        "id": "Rt5m4-k3Ee-M"
      },
      "source": [
        "Calculator"
      ]
    },
    {
      "cell_type": "code",
      "metadata": {
        "colab": {
          "base_uri": "https://localhost:8080/"
        },
        "id": "yp30piGgEibN",
        "outputId": "3b3ef962-60c1-4b98-9b2a-c6897f26415b"
      },
      "source": [
        "Number1= float(input(\"Enter First Number\"))\n",
        "Number2= float(input(\"Enter Second Number\"))\n",
        "Adittion= Number1+Number2\n",
        "Subtraction= Number1-Number2\n",
        "print(\"Adittion is..\", Adittion)\n",
        "print(\"Subtraction is..\", Subtraction)"
      ],
      "execution_count": null,
      "outputs": [
        {
          "output_type": "stream",
          "text": [
            "Enter First Number32\n",
            "Enter Second Number23\n",
            "Adittion is.. 55.0\n",
            "Subtraction is.. 9.0\n"
          ],
          "name": "stdout"
        }
      ]
    },
    {
      "cell_type": "code",
      "metadata": {
        "id": "No8J-O1nGFGA"
      },
      "source": [
        ""
      ],
      "execution_count": null,
      "outputs": []
    }
  ]
}